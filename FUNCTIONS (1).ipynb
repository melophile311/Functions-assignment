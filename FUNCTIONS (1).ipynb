{
 "cells": [
  {
   "cell_type": "raw",
   "id": "28e89394-f7d7-4838-a9a7-6c42d5500eb5",
   "metadata": {},
   "source": [
    "                                                : THEORY QUESTIONS :"
   ]
  },
  {
   "cell_type": "code",
   "execution_count": null,
   "id": "b9d5bd4d-928f-449a-b825-82bb4f3a7170",
   "metadata": {},
   "outputs": [],
   "source": [
    "'''\n",
    "1) What is the difference between a function and a method in Python?\n",
    "\n",
    "    - Function is a block of code defined using def, not tied to a specific object.\n",
    "      Method is a function that belongs to an object (like a string or list).\n",
    "'''"
   ]
  },
  {
   "cell_type": "code",
   "execution_count": 19,
   "id": "97ad61fd-4c0f-4946-a191-c3b8ca915de4",
   "metadata": {},
   "outputs": [
    {
     "name": "stdout",
     "output_type": "stream",
     "text": [
      "ALICE\n"
     ]
    }
   ],
   "source": [
    "      #Example:\n",
    "# Function\n",
    "def greet(name):\n",
    "    return \"Hello \" + name\n",
    "\n",
    "# Method\n",
    "name = \"Alice\"\n",
    "print(name.upper())  # .upper() is a string method"
   ]
  },
  {
   "cell_type": "code",
   "execution_count": null,
   "id": "8177beca-1d82-45ef-b4a9-e8c3e970966f",
   "metadata": {},
   "outputs": [],
   "source": [
    "'''\n",
    "2) Explain the concept of function arguments and parameters in Python.\n",
    "\n",
    "    -Parameters are Variables in the function definition.\n",
    "     Arguments are the  Actual values you pass when calling the function.\n",
    "'''"
   ]
  },
  {
   "cell_type": "code",
   "execution_count": 20,
   "id": "6efce06d-3dc4-43b9-965b-1d987f69fde5",
   "metadata": {},
   "outputs": [
    {
     "data": {
      "text/plain": [
       "5"
      ]
     },
     "execution_count": 20,
     "metadata": {},
     "output_type": "execute_result"
    }
   ],
   "source": [
    "    #Example:\n",
    "def add(a, b):  # a, b = parameters\n",
    "    return a + b\n",
    "\n",
    "add(2, 3)  # 2, 3 = arguments\n",
    "\n"
   ]
  },
  {
   "cell_type": "code",
   "execution_count": null,
   "id": "0fc64534-38d0-4bf0-9732-db4378bd327e",
   "metadata": {},
   "outputs": [],
   "source": [
    "'''\n",
    "3) What are the different ways to define and call a function in Python?\n",
    "\n",
    "    - By using def or lambda to define. or\n",
    "       BY Using the function name to call.\n",
    "'''"
   ]
  },
  {
   "cell_type": "code",
   "execution_count": 10,
   "id": "0ad8e232-1d56-487c-b81f-1f2faec7ac06",
   "metadata": {},
   "outputs": [
    {
     "name": "stdout",
     "output_type": "stream",
     "text": [
      "Hello!\n",
      "16\n"
     ]
    }
   ],
   "source": [
    "    #Example:\n",
    "# Regular function\n",
    "def say_hello():\n",
    "    print(\"Hello!\")\n",
    "\n",
    "say_hello()\n",
    "\n",
    "# Lambda function\n",
    "square = lambda x: x * x\n",
    "print(square(4))\n"
   ]
  },
  {
   "cell_type": "code",
   "execution_count": null,
   "id": "68d02bed-134f-459c-9e01-de878a634879",
   "metadata": {},
   "outputs": [],
   "source": [
    "'''\n",
    "4) What is the purpose of the return statement in a Python function?\n",
    "\n",
    "    -The purpose of 'return' statement is, Sends a result back from the function.\n",
    "'''"
   ]
  },
  {
   "cell_type": "code",
   "execution_count": 11,
   "id": "82e072b1-3ee1-4564-94f1-244509d98a37",
   "metadata": {},
   "outputs": [
    {
     "name": "stdout",
     "output_type": "stream",
     "text": [
      "12\n"
     ]
    }
   ],
   "source": [
    "    #Example:\n",
    "\n",
    "def get_total(a, b):\n",
    "    return a + b\n",
    "\n",
    "print(get_total(5, 7))\n"
   ]
  },
  {
   "cell_type": "code",
   "execution_count": null,
   "id": "19759ce6-7498-4f8b-8f1c-850653f2f9b2",
   "metadata": {},
   "outputs": [],
   "source": [
    "'''5) What are iterators in Python and how do they differ from iterables?\n",
    "\n",
    "    -Iterable is Something you can loop through (like a list).\n",
    "      whereas Iterator Gets one item at a time using next().\n",
    "'''"
   ]
  },
  {
   "cell_type": "code",
   "execution_count": 12,
   "id": "64dc7c25-dc82-4e10-92b4-a61fc6451f4a",
   "metadata": {},
   "outputs": [
    {
     "name": "stdout",
     "output_type": "stream",
     "text": [
      "10\n"
     ]
    }
   ],
   "source": [
    "    #Example:\n",
    "\n",
    "nums = [10, 20, 30]   # Iterable\n",
    "it = iter(nums)       # Now it's an iterator\n",
    "print(next(it))"
   ]
  },
  {
   "cell_type": "code",
   "execution_count": null,
   "id": "fe7537e2-8790-4412-b369-96065f9f0924",
   "metadata": {},
   "outputs": [],
   "source": [
    "'''\n",
    "6) Explain the concept of generators in Python and how they are defined.\n",
    "\n",
    "    -Generators in python are the functions that yield values one by one instead of returning all at once/\n",
    "'''"
   ]
  },
  {
   "cell_type": "code",
   "execution_count": 13,
   "id": "c14c2c6d-6599-46e6-aea3-17f75362e8d6",
   "metadata": {},
   "outputs": [
    {
     "name": "stdout",
     "output_type": "stream",
     "text": [
      "3\n",
      "2\n",
      "1\n"
     ]
    }
   ],
   "source": [
    "    #Example:\n",
    "\n",
    "def countdown(n):\n",
    "    while n > 0:\n",
    "        yield n\n",
    "        n -= 1\n",
    "\n",
    "for i in countdown(3):\n",
    "    print(i)"
   ]
  },
  {
   "cell_type": "code",
   "execution_count": null,
   "id": "63b6b599-4455-41fa-b0c0-3004af50d919",
   "metadata": {},
   "outputs": [],
   "source": [
    "'''\n",
    "7) What are the advantages of using generators over regular functions?\n",
    "\n",
    "    -The main advantages of using generators over functions is that it save memory (don’t store all values at once),\n",
    "     and it is also Useful for large datasets or infinite loops.\n",
    "'''\n"
   ]
  },
  {
   "cell_type": "code",
   "execution_count": 17,
   "id": "dfb86317-e873-4763-876b-ad56c5f02f3b",
   "metadata": {},
   "outputs": [],
   "source": [
    "    #Example:\n",
    "\n",
    "def infinite_numbers():\n",
    "    n = 0\n",
    "    while True:\n",
    "        yield n\n",
    "        n += 1"
   ]
  },
  {
   "cell_type": "code",
   "execution_count": null,
   "id": "3e4b497a-3666-4b16-ae41-781d4d84d9af",
   "metadata": {},
   "outputs": [],
   "source": [
    "'''\n",
    "8) What is a lambda function in Python and when is it typically used?\n",
    "\n",
    "    -It has a Small anonymous function using lambda.\n",
    "'''"
   ]
  },
  {
   "cell_type": "code",
   "execution_count": 21,
   "id": "9aea6b9c-8842-4649-b36f-32e83ec2d748",
   "metadata": {},
   "outputs": [
    {
     "name": "stdout",
     "output_type": "stream",
     "text": [
      "12\n"
     ]
    }
   ],
   "source": [
    "#Example\n",
    "multiply = lambda x, y: x * y\n",
    "print(multiply(3, 4))"
   ]
  },
  {
   "cell_type": "code",
   "execution_count": null,
   "id": "75f6ea31-c49e-45f6-9bc1-35ad915a3ce2",
   "metadata": {},
   "outputs": [],
   "source": [
    "'''\n",
    "9) Explain the purpose and usage of the map() function in Python.\n",
    "\n",
    "    -It Applies a function to every item in a list (or iterable).\n",
    "'''"
   ]
  },
  {
   "cell_type": "code",
   "execution_count": 22,
   "id": "f7944b94-9154-49fa-9ad1-a44ab25f8516",
   "metadata": {},
   "outputs": [
    {
     "name": "stdout",
     "output_type": "stream",
     "text": [
      "[1, 4, 9]\n"
     ]
    }
   ],
   "source": [
    "    #Example:\n",
    "nums = [1, 2, 3]\n",
    "squared = map(lambda x: x * x, nums)\n",
    "print(list(squared))"
   ]
  },
  {
   "cell_type": "code",
   "execution_count": null,
   "id": "fa79d9a9-2821-48c3-a527-aede2b4dce95",
   "metadata": {},
   "outputs": [],
   "source": [
    "'''\n",
    "10) What is the difference between map(), reduce(), and filter() functions in Python?\n",
    "\n",
    "    -Function\t            Purpose\t                                       Example\n",
    "\n",
    "     map()\t        Apply function to all items.                 \tmap(lambda x: x*2, [1,2,3])\n",
    "     filter()\t    Keep items if condition is True.           \tfilter(lambda x: x%2==0, [1,2,3])\n",
    "     reduce()\t    Combine all items into one value.\t         reduce(lambda x, y: x+y, [1,2,3])\n",
    "'''"
   ]
  },
  {
   "cell_type": "code",
   "execution_count": null,
   "id": "a672506d-d41c-43a6-845c-a1eb53530bfa",
   "metadata": {},
   "outputs": [],
   "source": []
  },
  {
   "cell_type": "code",
   "execution_count": null,
   "id": "ee41a16d-0cf0-4f47-8ebd-132dfece62cb",
   "metadata": {},
   "outputs": [],
   "source": []
  },
  {
   "cell_type": "raw",
   "id": "53cca464-192e-4cbd-9d10-1e782b120e2b",
   "metadata": {},
   "source": [
    "                                                    :PRACTICAL QUESTIONS:"
   ]
  },
  {
   "cell_type": "code",
   "execution_count": null,
   "id": "315d9d3b-b3b6-454e-99c8-99d3fb095af9",
   "metadata": {},
   "outputs": [],
   "source": []
  },
  {
   "cell_type": "code",
   "execution_count": 36,
   "id": "8f8d9141-ac19-4a8e-a90b-56495111b9a4",
   "metadata": {},
   "outputs": [
    {
     "data": {
      "text/plain": [
       "6"
      ]
     },
     "execution_count": 36,
     "metadata": {},
     "output_type": "execute_result"
    }
   ],
   "source": [
    "# 1) Write a Python function that takes a list of numbers as input and returns the sum of all even numbers in the list.\n",
    "\n",
    "def sum_even_numbers(numbers):\n",
    "    return sum(num for num in numbers if num % 2 == 0)\n",
    "#Example\n",
    "num=[1,2,3,4,5]\n",
    "sum_even_numbers(num)"
   ]
  },
  {
   "cell_type": "code",
   "execution_count": 9,
   "id": "9cb64b70-dc3a-4018-b2b5-9019b4f96505",
   "metadata": {},
   "outputs": [
    {
     "data": {
      "text/plain": [
       "'nohtyP'"
      ]
     },
     "execution_count": 9,
     "metadata": {},
     "output_type": "execute_result"
    }
   ],
   "source": [
    "# 2) Create a Python function that accepts a string and returns the reverse of that string.\n",
    "def reverse_string(s):\n",
    "    return s[::-1]\n",
    "\n",
    "# Example\n",
    "reverse_string(\"Python\") "
   ]
  },
  {
   "cell_type": "code",
   "execution_count": 11,
   "id": "fad2af42-0360-45a2-8ad2-1566638be719",
   "metadata": {},
   "outputs": [
    {
     "data": {
      "text/plain": [
       "[1, 4, 9, 16]"
      ]
     },
     "execution_count": 11,
     "metadata": {},
     "output_type": "execute_result"
    }
   ],
   "source": [
    "# 3) Implement a Python function that takes a list of integers and returns a new list containing the squares of each number.\n",
    "def square_numbers(numbers):\n",
    "    return [num ** 2 for num in numbers]\n",
    "\n",
    "#Example\n",
    "square_numbers([1, 2, 3, 4])\n"
   ]
  },
  {
   "cell_type": "code",
   "execution_count": 12,
   "id": "3a4d0528-2303-4020-bf79-607a020d4c07",
   "metadata": {},
   "outputs": [
    {
     "name": "stdout",
     "output_type": "stream",
     "text": [
      "[2, 3, 5, 7, 11, 13, 17, 19, 23, 29, 31, 37, 41, 43, 47, 53, 59, 61, 67, 71, 73, 79, 83, 89, 97, 101, 103, 107, 109, 113, 127, 131, 137, 139, 149, 151, 157, 163, 167, 173, 179, 181, 191, 193, 197, 199]\n"
     ]
    }
   ],
   "source": [
    "# 4) Write a Python function that checks if a given number is prime or not from 1 to 200.\n",
    "def is_prime(n):\n",
    "    if n < 2:\n",
    "        return False\n",
    "    for i in range(2, int(n**0.5) + 1):\n",
    "        if n % i == 0:\n",
    "            return False\n",
    "    return True\n",
    "\n",
    "# Check primes from 1 to 200\n",
    "primes = [n for n in range(1, 201) if is_prime(n)]\n",
    "print(primes)\n"
   ]
  },
  {
   "cell_type": "code",
   "execution_count": 59,
   "id": "bab72f8c-051a-493b-873d-0660ff0cfd4e",
   "metadata": {},
   "outputs": [
    {
     "name": "stdin",
     "output_type": "stream",
     "text": [
      "Enter Total number of values in Sequence :  20\n"
     ]
    },
    {
     "name": "stdout",
     "output_type": "stream",
     "text": [
      "0\n",
      "1\n",
      "1\n",
      "2\n",
      "3\n",
      "5\n",
      "8\n",
      "13\n",
      "21\n",
      "34\n",
      "55\n",
      "89\n",
      "144\n",
      "233\n",
      "377\n",
      "610\n",
      "987\n",
      "1597\n",
      "2584\n",
      "4181\n"
     ]
    }
   ],
   "source": [
    "# 5) Create an iterator class in Python that generates the Fibonacci sequence up to a specified number of terms.\n",
    "a= 0\n",
    "b=1\n",
    "i=int(input(\"Enter Total number of values in Sequence : \"))\n",
    "for i in range (20):\n",
    "    print (a)\n",
    "    a,b=b,a+b\n",
    "    i+=1"
   ]
  },
  {
   "cell_type": "code",
   "execution_count": 20,
   "id": "5fdce456-e71c-4a5f-92f3-5dccc937f34f",
   "metadata": {},
   "outputs": [
    {
     "name": "stdout",
     "output_type": "stream",
     "text": [
      "1 2 4 8 16 32 "
     ]
    }
   ],
   "source": [
    "# 6) Write a generator function in Python that yields the powers of 2 up to a given exponent.\n",
    "\n",
    "def powers_of_two(max_exponent):\n",
    "    for i in range(max_exponent + 1):\n",
    "        yield 2 ** i\n",
    "\n",
    "# Example\n",
    "for val in powers_of_two(5):\n",
    "    print(val, end=' ')\n"
   ]
  },
  {
   "cell_type": "code",
   "execution_count": 62,
   "id": "e1d6181e-2f0f-4a5d-bf6a-06c9b16f3966",
   "metadata": {},
   "outputs": [
    {
     "ename": "FileNotFoundError",
     "evalue": "[Errno 2] No such file or directory: 'example.txt'",
     "output_type": "error",
     "traceback": [
      "\u001b[31m---------------------------------------------------------------------------\u001b[39m",
      "\u001b[31mFileNotFoundError\u001b[39m                         Traceback (most recent call last)",
      "\u001b[36mCell\u001b[39m\u001b[36m \u001b[39m\u001b[32mIn[62]\u001b[39m\u001b[32m, line 7\u001b[39m\n\u001b[32m      4\u001b[39m         \u001b[38;5;28;01mfor\u001b[39;00m line \u001b[38;5;129;01min\u001b[39;00m file:\n\u001b[32m      5\u001b[39m             \u001b[38;5;28;01myield\u001b[39;00m line.rstrip(\u001b[33m'\u001b[39m\u001b[33m/n\u001b[39m\u001b[33m'\u001b[39m)\n\u001b[32m----> \u001b[39m\u001b[32m7\u001b[39m \u001b[38;5;28;43;01mfor\u001b[39;49;00m\u001b[43m \u001b[49m\u001b[43mline\u001b[49m\u001b[43m \u001b[49m\u001b[38;5;129;43;01min\u001b[39;49;00m\u001b[43m \u001b[49m\u001b[43mread_file_lines\u001b[49m\u001b[43m(\u001b[49m\u001b[33;43m'\u001b[39;49m\u001b[33;43mexample.txt\u001b[39;49m\u001b[33;43m'\u001b[39;49m\u001b[43m)\u001b[49m\u001b[43m:\u001b[49m\n\u001b[32m      8\u001b[39m \u001b[43m    \u001b[49m\u001b[38;5;28;43mprint\u001b[39;49m\u001b[43m(\u001b[49m\u001b[43mline\u001b[49m\u001b[43m)\u001b[49m\n",
      "\u001b[36mCell\u001b[39m\u001b[36m \u001b[39m\u001b[32mIn[62]\u001b[39m\u001b[32m, line 3\u001b[39m, in \u001b[36mread_file_lines\u001b[39m\u001b[34m(file_path)\u001b[39m\n\u001b[32m      2\u001b[39m \u001b[38;5;28;01mdef\u001b[39;00m\u001b[38;5;250m \u001b[39m\u001b[34mread_file_lines\u001b[39m(file_path):\n\u001b[32m----> \u001b[39m\u001b[32m3\u001b[39m     \u001b[38;5;28;01mwith\u001b[39;00m \u001b[38;5;28;43mopen\u001b[39;49m\u001b[43m(\u001b[49m\u001b[43mfile_path\u001b[49m\u001b[43m,\u001b[49m\u001b[33;43m'\u001b[39;49m\u001b[33;43mr\u001b[39;49m\u001b[33;43m'\u001b[39;49m\u001b[43m)\u001b[49m \u001b[38;5;28;01mas\u001b[39;00m file:\n\u001b[32m      4\u001b[39m         \u001b[38;5;28;01mfor\u001b[39;00m line \u001b[38;5;129;01min\u001b[39;00m file:\n\u001b[32m      5\u001b[39m             \u001b[38;5;28;01myield\u001b[39;00m line.rstrip(\u001b[33m'\u001b[39m\u001b[33m/n\u001b[39m\u001b[33m'\u001b[39m)\n",
      "\u001b[36mFile \u001b[39m\u001b[32m~\\AppData\\Local\\Programs\\Python\\Python313\\Lib\\site-packages\\IPython\\core\\interactiveshell.py:326\u001b[39m, in \u001b[36m_modified_open\u001b[39m\u001b[34m(file, *args, **kwargs)\u001b[39m\n\u001b[32m    319\u001b[39m \u001b[38;5;28;01mif\u001b[39;00m file \u001b[38;5;129;01min\u001b[39;00m {\u001b[32m0\u001b[39m, \u001b[32m1\u001b[39m, \u001b[32m2\u001b[39m}:\n\u001b[32m    320\u001b[39m     \u001b[38;5;28;01mraise\u001b[39;00m \u001b[38;5;167;01mValueError\u001b[39;00m(\n\u001b[32m    321\u001b[39m         \u001b[33mf\u001b[39m\u001b[33m\"\u001b[39m\u001b[33mIPython won\u001b[39m\u001b[33m'\u001b[39m\u001b[33mt let you open fd=\u001b[39m\u001b[38;5;132;01m{\u001b[39;00mfile\u001b[38;5;132;01m}\u001b[39;00m\u001b[33m by default \u001b[39m\u001b[33m\"\u001b[39m\n\u001b[32m    322\u001b[39m         \u001b[33m\"\u001b[39m\u001b[33mas it is likely to crash IPython. If you know what you are doing, \u001b[39m\u001b[33m\"\u001b[39m\n\u001b[32m    323\u001b[39m         \u001b[33m\"\u001b[39m\u001b[33myou can use builtins\u001b[39m\u001b[33m'\u001b[39m\u001b[33m open.\u001b[39m\u001b[33m\"\u001b[39m\n\u001b[32m    324\u001b[39m     )\n\u001b[32m--> \u001b[39m\u001b[32m326\u001b[39m \u001b[38;5;28;01mreturn\u001b[39;00m \u001b[43mio_open\u001b[49m\u001b[43m(\u001b[49m\u001b[43mfile\u001b[49m\u001b[43m,\u001b[49m\u001b[43m \u001b[49m\u001b[43m*\u001b[49m\u001b[43margs\u001b[49m\u001b[43m,\u001b[49m\u001b[43m \u001b[49m\u001b[43m*\u001b[49m\u001b[43m*\u001b[49m\u001b[43mkwargs\u001b[49m\u001b[43m)\u001b[49m\n",
      "\u001b[31mFileNotFoundError\u001b[39m: [Errno 2] No such file or directory: 'example.txt'"
     ]
    }
   ],
   "source": [
    "# 7) Implement a generator function that reads a file line by line and yields each line as a string.\n",
    "def read_file_lines(file_path):\n",
    "    with open(file_path,'r') as file:\n",
    "        for line in file:\n",
    "            yield line.rstrip('/n')\n",
    "\n",
    "for line in read_file_lines('example.txt'):\n",
    "    print(line)"
   ]
  },
  {
   "cell_type": "code",
   "execution_count": 31,
   "id": "c2ad63b6-17b6-4906-99ae-2a7cf1d19242",
   "metadata": {},
   "outputs": [
    {
     "name": "stdout",
     "output_type": "stream",
     "text": [
      "[(2, 1), (4, 2), (1, 3)]\n"
     ]
    }
   ],
   "source": [
    "# 8) Use a lambda function in Python to sort a list of tuples based on the second element of each tuple.\n",
    "tuples_list = [(1, 3), (2, 1), (4, 2)]\n",
    "sorted_list = sorted(tuples_list, key=lambda x: x[1])\n",
    "print(sorted_list) "
   ]
  },
  {
   "cell_type": "code",
   "execution_count": 32,
   "id": "593d0730-1199-4cb3-93cd-bd72aac3bba7",
   "metadata": {},
   "outputs": [
    {
     "name": "stdout",
     "output_type": "stream",
     "text": [
      "[32.0, 68.0, 86.0, 104.0]\n"
     ]
    }
   ],
   "source": [
    "# 9) Write a Python program that uses map() to convert a list of temperatures from Celsius to Fahrenheit.\n",
    "celsius = [0, 20, 30, 40]\n",
    "fahrenheit = list(map(lambda c: (c * 9/5) + 32, celsius))\n",
    "print(fahrenheit) "
   ]
  },
  {
   "cell_type": "code",
   "execution_count": 33,
   "id": "b6ad6a6a-b9fd-41cf-bef2-b61c0d16b3b3",
   "metadata": {},
   "outputs": [
    {
     "data": {
      "text/plain": [
       "'Hll Wrld'"
      ]
     },
     "execution_count": 33,
     "metadata": {},
     "output_type": "execute_result"
    }
   ],
   "source": [
    "# 10) Create a Python program that uses filter() to remove all the vowels from a given string.\n",
    "def remove_vowels(s):\n",
    "    return ''.join(filter(lambda c: c.lower() not in 'aeiou', s))\n",
    "\n",
    "# Example\n",
    "remove_vowels(\"Hello World\")  "
   ]
  },
  {
   "cell_type": "code",
   "execution_count": 34,
   "id": "0431ce66-dc38-4267-8584-d94a0f3050f0",
   "metadata": {},
   "outputs": [
    {
     "name": "stdout",
     "output_type": "stream",
     "text": [
      "[(34587, 163.8), (98762, 284.0), (77226, 108.85000000000001), (88112, 84.97)]\n"
     ]
    }
   ],
   "source": [
    "# 11) As per the question.\n",
    "orders = [\n",
    "    [34587, \"Learning Python, Mark Lutz\", 4, 40.95],\n",
    "    [98762, \"Programming Python, Mark Lutz\", 5, 56.80],\n",
    "    [77226, \"Head First Python, Paul Barry\", 3, 32.95],\n",
    "    [88112, \"Einführung in Python3, Bernd Klein\", 3, 24.99]\n",
    "]\n",
    "\n",
    "# Using lambda and map to process the orders\n",
    "processed_orders = list(map(\n",
    "    lambda order: (order[0], order[2] * order[3] + (10 if order[2] * order[3] < 100 else 0)),\n",
    "    orders\n",
    "))\n",
    "\n",
    "# Display the result\n",
    "print(processed_orders)"
   ]
  }
 ],
 "metadata": {
  "kernelspec": {
   "display_name": "Python 3 (ipykernel)",
   "language": "python",
   "name": "python3"
  },
  "language_info": {
   "codemirror_mode": {
    "name": "ipython",
    "version": 3
   },
   "file_extension": ".py",
   "mimetype": "text/x-python",
   "name": "python",
   "nbconvert_exporter": "python",
   "pygments_lexer": "ipython3",
   "version": "3.13.3"
  }
 },
 "nbformat": 4,
 "nbformat_minor": 5
}
